{
 "cells": [
  {
   "cell_type": "code",
   "execution_count": 0,
   "metadata": {
    "colab": {},
    "colab_type": "code",
    "collapsed": true,
    "id": "1BZiOj_DvmIV"
   },
   "outputs": [],
   "source": [
    "import pandas as pd\n",
    "import numpy as np\n",
    "import matplotlib.pyplot as plt\n",
    "from keras.layers import Dense,Conv2D,MaxPool2D,BatchNormalization,Flatten,LeakyReLU,Dropout\n",
    "from keras.callbacks import EarlyStopping,ModelCheckpoint\n",
    "from keras.models import Sequential"
   ]
  },
  {
   "cell_type": "code",
   "execution_count": 4,
   "metadata": {
    "colab": {
     "base_uri": "https://localhost:8080/",
     "height": 35
    },
    "colab_type": "code",
    "id": "9Yh0O_6-wKbJ",
    "outputId": "353e2e98-ff56-4c8a-85ae-4922e1e33b63"
   },
   "outputs": [
    {
     "name": "stdout",
     "output_type": "stream",
     "text": [
      "Mounted at /content/drive\n"
     ]
    }
   ],
   "source": [
    "from google.colab import drive\n",
    "drive.mount('/content/drive')"
   ]
  },
  {
   "cell_type": "code",
   "execution_count": 1,
   "metadata": {
    "colab": {
     "base_uri": "https://localhost:8080/",
     "height": 211
    },
    "colab_type": "code",
    "id": "T2rQ545xv9aT",
    "outputId": "564a567e-bd50-471a-cce0-971abb333785"
   },
   "outputs": [
    {
     "name": "stdout",
     "output_type": "stream",
     "text": [
      "Requirement already satisfied: kaggle in /usr/local/lib/python3.6/dist-packages (1.5.4)\n",
      "Requirement already satisfied: tqdm in /usr/local/lib/python3.6/dist-packages (from kaggle) (4.28.1)\n",
      "Requirement already satisfied: urllib3<1.25,>=1.21.1 in /usr/local/lib/python3.6/dist-packages (from kaggle) (1.24.3)\n",
      "Requirement already satisfied: six>=1.10 in /usr/local/lib/python3.6/dist-packages (from kaggle) (1.12.0)\n",
      "Requirement already satisfied: requests in /usr/local/lib/python3.6/dist-packages (from kaggle) (2.21.0)\n",
      "Requirement already satisfied: python-dateutil in /usr/local/lib/python3.6/dist-packages (from kaggle) (2.5.3)\n",
      "Requirement already satisfied: certifi in /usr/local/lib/python3.6/dist-packages (from kaggle) (2019.6.16)\n",
      "Requirement already satisfied: python-slugify in /usr/local/lib/python3.6/dist-packages (from kaggle) (3.0.2)\n",
      "Requirement already satisfied: chardet<3.1.0,>=3.0.2 in /usr/local/lib/python3.6/dist-packages (from requests->kaggle) (3.0.4)\n",
      "Requirement already satisfied: idna<2.9,>=2.5 in /usr/local/lib/python3.6/dist-packages (from requests->kaggle) (2.8)\n",
      "Requirement already satisfied: text-unidecode==1.2 in /usr/local/lib/python3.6/dist-packages (from python-slugify->kaggle) (1.2)\n"
     ]
    }
   ],
   "source": [
    "!pip install kaggle"
   ]
  },
  {
   "cell_type": "code",
   "execution_count": 0,
   "metadata": {
    "colab": {},
    "colab_type": "code",
    "collapsed": true,
    "id": "oBy0SrrxxNB5"
   },
   "outputs": [],
   "source": [
    "!mkdir .kaggle\n",
    "import json\n",
    "token = {\"username\":#enter username,\"key\":#enter key}\n",
    "with open('/content/.kaggle/kaggle.json', 'w') as file:\n",
    "    json.dump(token, file)"
   ]
  },
  {
   "cell_type": "code",
   "execution_count": 0,
   "metadata": {
    "colab": {},
    "colab_type": "code",
    "collapsed": true,
    "id": "ERy7twBoxZQk"
   },
   "outputs": [],
   "source": [
    "!cp /content/.kaggle/kaggle.json ~/.kaggle/kaggle.json\n"
   ]
  },
  {
   "cell_type": "code",
   "execution_count": 5,
   "metadata": {
    "colab": {
     "base_uri": "https://localhost:8080/",
     "height": 52
    },
    "colab_type": "code",
    "id": "yHm-xEA1xh03",
    "outputId": "30011914-5c03-4f7a-ad74-4ebf6ec9bd2b"
   },
   "outputs": [
    {
     "name": "stdout",
     "output_type": "stream",
     "text": [
      "Warning: Your Kaggle API key is readable by other users on this system! To fix this, you can run 'chmod 600 /root/.kaggle/kaggle.json'\n",
      "- path is now set to: {/content}\n"
     ]
    }
   ],
   "source": [
    "!kaggle config set -n path -v{/content}"
   ]
  },
  {
   "cell_type": "code",
   "execution_count": 0,
   "metadata": {
    "colab": {},
    "colab_type": "code",
    "collapsed": true,
    "id": "FZW5N-DsxprZ"
   },
   "outputs": [],
   "source": [
    "!chmod 600 /root/.kaggle/kaggle.json"
   ]
  },
  {
   "cell_type": "code",
   "execution_count": 11,
   "metadata": {
    "colab": {
     "base_uri": "https://localhost:8080/",
     "height": 228
    },
    "colab_type": "code",
    "id": "lSjfkv7SxvQa",
    "outputId": "f2d2252a-8fee-4bf5-d0a6-15d6520e7010"
   },
   "outputs": [
    {
     "name": "stdout",
     "output_type": "stream",
     "text": [
      "Downloading training.zip to {/content}/competitions/facial-keypoints-detection\n",
      " 78% 47.0M/60.1M [00:00<00:00, 49.2MB/s]\n",
      "100% 60.1M/60.1M [00:00<00:00, 94.8MB/s]\n",
      "Downloading test.zip to {/content}/competitions/facial-keypoints-detection\n",
      " 31% 5.00M/16.0M [00:00<00:00, 17.3MB/s]\n",
      "100% 16.0M/16.0M [00:00<00:00, 40.2MB/s]\n",
      "Downloading SampleSubmission.csv to {/content}/competitions/facial-keypoints-detection\n",
      "  0% 0.00/201k [00:00<?, ?B/s]\n",
      "100% 201k/201k [00:00<00:00, 166MB/s]\n",
      "Downloading IdLookupTable.csv to {/content}/competitions/facial-keypoints-detection\n",
      "  0% 0.00/843k [00:00<?, ?B/s]\n",
      "100% 843k/843k [00:00<00:00, 111MB/s]\n"
     ]
    }
   ],
   "source": [
    "!kaggle competitions download -c facial-keypoints-detection"
   ]
  },
  {
   "cell_type": "code",
   "execution_count": 15,
   "metadata": {
    "colab": {
     "base_uri": "https://localhost:8080/",
     "height": 70
    },
    "colab_type": "code",
    "id": "VXDy8J1ZyZpQ",
    "outputId": "6d1aa8c9-0588-43c7-954c-4d2a65c4bae4"
   },
   "outputs": [
    {
     "name": "stdout",
     "output_type": "stream",
     "text": [
      "Archive:  /content/{/content}/competitions/facial-keypoints-detection/test.zip\n",
      "replace test.csv? [y]es, [n]o, [A]ll, [N]one, [r]ename: y\n",
      "  inflating: test.csv                \n"
     ]
    }
   ],
   "source": [
    "!unzip /content/{/content}/competitions/facial-keypoints-detection/test.zip"
   ]
  },
  {
   "cell_type": "code",
   "execution_count": 17,
   "metadata": {
    "colab": {
     "base_uri": "https://localhost:8080/",
     "height": 52
    },
    "colab_type": "code",
    "id": "yd3pTW51ygAg",
    "outputId": "afc4a06c-69f7-48e2-a5c9-e9d136bf5f02"
   },
   "outputs": [
    {
     "name": "stdout",
     "output_type": "stream",
     "text": [
      "Archive:  /content/{/content}/competitions/facial-keypoints-detection/training.zip\n",
      "  inflating: training.csv            \n"
     ]
    }
   ],
   "source": [
    "!unzip /content/{/content}/competitions/facial-keypoints-detection/training.zip"
   ]
  },
  {
   "cell_type": "code",
   "execution_count": 22,
   "metadata": {
    "colab": {
     "base_uri": "https://localhost:8080/",
     "height": 1000
    },
    "colab_type": "code",
    "id": "O3A50VhWy85q",
    "outputId": "7515b5e9-58c6-47df-e772-5a57c8fa1c8f"
   },
   "outputs": [
    {
     "data": {
      "text/html": [
       "<div>\n",
       "<style scoped>\n",
       "    .dataframe tbody tr th:only-of-type {\n",
       "        vertical-align: middle;\n",
       "    }\n",
       "\n",
       "    .dataframe tbody tr th {\n",
       "        vertical-align: top;\n",
       "    }\n",
       "\n",
       "    .dataframe thead th {\n",
       "        text-align: right;\n",
       "    }\n",
       "</style>\n",
       "<table border=\"1\" class=\"dataframe\">\n",
       "  <thead>\n",
       "    <tr style=\"text-align: right;\">\n",
       "      <th></th>\n",
       "      <th>left_eye_center_x</th>\n",
       "      <th>left_eye_center_y</th>\n",
       "      <th>right_eye_center_x</th>\n",
       "      <th>right_eye_center_y</th>\n",
       "      <th>left_eye_inner_corner_x</th>\n",
       "      <th>left_eye_inner_corner_y</th>\n",
       "      <th>left_eye_outer_corner_x</th>\n",
       "      <th>left_eye_outer_corner_y</th>\n",
       "      <th>right_eye_inner_corner_x</th>\n",
       "      <th>right_eye_inner_corner_y</th>\n",
       "      <th>right_eye_outer_corner_x</th>\n",
       "      <th>right_eye_outer_corner_y</th>\n",
       "      <th>left_eyebrow_inner_end_x</th>\n",
       "      <th>left_eyebrow_inner_end_y</th>\n",
       "      <th>left_eyebrow_outer_end_x</th>\n",
       "      <th>left_eyebrow_outer_end_y</th>\n",
       "      <th>right_eyebrow_inner_end_x</th>\n",
       "      <th>right_eyebrow_inner_end_y</th>\n",
       "      <th>right_eyebrow_outer_end_x</th>\n",
       "      <th>right_eyebrow_outer_end_y</th>\n",
       "      <th>nose_tip_x</th>\n",
       "      <th>nose_tip_y</th>\n",
       "      <th>mouth_left_corner_x</th>\n",
       "      <th>mouth_left_corner_y</th>\n",
       "      <th>mouth_right_corner_x</th>\n",
       "      <th>mouth_right_corner_y</th>\n",
       "      <th>mouth_center_top_lip_x</th>\n",
       "      <th>mouth_center_top_lip_y</th>\n",
       "      <th>mouth_center_bottom_lip_x</th>\n",
       "      <th>mouth_center_bottom_lip_y</th>\n",
       "      <th>Image</th>\n",
       "    </tr>\n",
       "  </thead>\n",
       "  <tbody>\n",
       "    <tr>\n",
       "      <th>0</th>\n",
       "      <td>66.033564</td>\n",
       "      <td>39.002274</td>\n",
       "      <td>30.227008</td>\n",
       "      <td>36.421678</td>\n",
       "      <td>59.582075</td>\n",
       "      <td>39.647423</td>\n",
       "      <td>73.130346</td>\n",
       "      <td>39.969997</td>\n",
       "      <td>36.356571</td>\n",
       "      <td>37.389402</td>\n",
       "      <td>23.452872</td>\n",
       "      <td>37.389402</td>\n",
       "      <td>56.953263</td>\n",
       "      <td>29.033648</td>\n",
       "      <td>80.227128</td>\n",
       "      <td>32.228138</td>\n",
       "      <td>40.227609</td>\n",
       "      <td>29.002322</td>\n",
       "      <td>16.356379</td>\n",
       "      <td>29.647471</td>\n",
       "      <td>44.420571</td>\n",
       "      <td>57.066803</td>\n",
       "      <td>61.195308</td>\n",
       "      <td>79.970165</td>\n",
       "      <td>28.614496</td>\n",
       "      <td>77.388992</td>\n",
       "      <td>43.312602</td>\n",
       "      <td>72.935459</td>\n",
       "      <td>43.130707</td>\n",
       "      <td>84.485774</td>\n",
       "      <td>238 236 237 238 240 240 239 241 241 243 240 23...</td>\n",
       "    </tr>\n",
       "    <tr>\n",
       "      <th>1</th>\n",
       "      <td>64.332936</td>\n",
       "      <td>34.970077</td>\n",
       "      <td>29.949277</td>\n",
       "      <td>33.448715</td>\n",
       "      <td>58.856170</td>\n",
       "      <td>35.274349</td>\n",
       "      <td>70.722723</td>\n",
       "      <td>36.187166</td>\n",
       "      <td>36.034723</td>\n",
       "      <td>34.361532</td>\n",
       "      <td>24.472511</td>\n",
       "      <td>33.144443</td>\n",
       "      <td>53.987404</td>\n",
       "      <td>28.275949</td>\n",
       "      <td>78.634213</td>\n",
       "      <td>30.405923</td>\n",
       "      <td>42.728851</td>\n",
       "      <td>26.146043</td>\n",
       "      <td>16.865362</td>\n",
       "      <td>27.058860</td>\n",
       "      <td>48.206298</td>\n",
       "      <td>55.660936</td>\n",
       "      <td>56.421447</td>\n",
       "      <td>76.352000</td>\n",
       "      <td>35.122383</td>\n",
       "      <td>76.047660</td>\n",
       "      <td>46.684596</td>\n",
       "      <td>70.266553</td>\n",
       "      <td>45.467915</td>\n",
       "      <td>85.480170</td>\n",
       "      <td>219 215 204 196 204 211 212 200 180 168 178 19...</td>\n",
       "    </tr>\n",
       "    <tr>\n",
       "      <th>2</th>\n",
       "      <td>65.057053</td>\n",
       "      <td>34.909642</td>\n",
       "      <td>30.903789</td>\n",
       "      <td>34.909642</td>\n",
       "      <td>59.412000</td>\n",
       "      <td>36.320968</td>\n",
       "      <td>70.984421</td>\n",
       "      <td>36.320968</td>\n",
       "      <td>37.678105</td>\n",
       "      <td>36.320968</td>\n",
       "      <td>24.976421</td>\n",
       "      <td>36.603221</td>\n",
       "      <td>55.742526</td>\n",
       "      <td>27.570947</td>\n",
       "      <td>78.887368</td>\n",
       "      <td>32.651621</td>\n",
       "      <td>42.193895</td>\n",
       "      <td>28.135453</td>\n",
       "      <td>16.791158</td>\n",
       "      <td>32.087116</td>\n",
       "      <td>47.557263</td>\n",
       "      <td>53.538947</td>\n",
       "      <td>60.822947</td>\n",
       "      <td>73.014316</td>\n",
       "      <td>33.726316</td>\n",
       "      <td>72.732000</td>\n",
       "      <td>47.274947</td>\n",
       "      <td>70.191789</td>\n",
       "      <td>47.274947</td>\n",
       "      <td>78.659368</td>\n",
       "      <td>144 142 159 180 188 188 184 180 167 132 84 59 ...</td>\n",
       "    </tr>\n",
       "    <tr>\n",
       "      <th>3</th>\n",
       "      <td>65.225739</td>\n",
       "      <td>37.261774</td>\n",
       "      <td>32.023096</td>\n",
       "      <td>37.261774</td>\n",
       "      <td>60.003339</td>\n",
       "      <td>39.127179</td>\n",
       "      <td>72.314713</td>\n",
       "      <td>38.380967</td>\n",
       "      <td>37.618643</td>\n",
       "      <td>38.754115</td>\n",
       "      <td>25.307270</td>\n",
       "      <td>38.007903</td>\n",
       "      <td>56.433809</td>\n",
       "      <td>30.929864</td>\n",
       "      <td>77.910261</td>\n",
       "      <td>31.665725</td>\n",
       "      <td>41.671513</td>\n",
       "      <td>31.049990</td>\n",
       "      <td>20.458017</td>\n",
       "      <td>29.909343</td>\n",
       "      <td>51.885078</td>\n",
       "      <td>54.166539</td>\n",
       "      <td>65.598887</td>\n",
       "      <td>72.703722</td>\n",
       "      <td>37.245496</td>\n",
       "      <td>74.195478</td>\n",
       "      <td>50.303165</td>\n",
       "      <td>70.091687</td>\n",
       "      <td>51.561183</td>\n",
       "      <td>78.268383</td>\n",
       "      <td>193 192 193 194 194 194 193 192 168 111 50 12 ...</td>\n",
       "    </tr>\n",
       "    <tr>\n",
       "      <th>4</th>\n",
       "      <td>66.725301</td>\n",
       "      <td>39.621261</td>\n",
       "      <td>32.244810</td>\n",
       "      <td>38.042032</td>\n",
       "      <td>58.565890</td>\n",
       "      <td>39.621261</td>\n",
       "      <td>72.515926</td>\n",
       "      <td>39.884466</td>\n",
       "      <td>36.982380</td>\n",
       "      <td>39.094852</td>\n",
       "      <td>22.506110</td>\n",
       "      <td>38.305237</td>\n",
       "      <td>57.249571</td>\n",
       "      <td>30.672177</td>\n",
       "      <td>77.762945</td>\n",
       "      <td>31.737247</td>\n",
       "      <td>38.035436</td>\n",
       "      <td>30.935382</td>\n",
       "      <td>15.925870</td>\n",
       "      <td>30.672177</td>\n",
       "      <td>43.299534</td>\n",
       "      <td>64.889521</td>\n",
       "      <td>60.671411</td>\n",
       "      <td>77.523239</td>\n",
       "      <td>31.191755</td>\n",
       "      <td>76.997301</td>\n",
       "      <td>44.962748</td>\n",
       "      <td>73.707387</td>\n",
       "      <td>44.227141</td>\n",
       "      <td>86.871166</td>\n",
       "      <td>147 148 160 196 215 214 216 217 219 220 206 18...</td>\n",
       "    </tr>\n",
       "  </tbody>\n",
       "</table>\n",
       "</div>"
      ],
      "text/plain": [
       "   left_eye_center_x  ...                                              Image\n",
       "0          66.033564  ...  238 236 237 238 240 240 239 241 241 243 240 23...\n",
       "1          64.332936  ...  219 215 204 196 204 211 212 200 180 168 178 19...\n",
       "2          65.057053  ...  144 142 159 180 188 188 184 180 167 132 84 59 ...\n",
       "3          65.225739  ...  193 192 193 194 194 194 193 192 168 111 50 12 ...\n",
       "4          66.725301  ...  147 148 160 196 215 214 216 217 219 220 206 18...\n",
       "\n",
       "[5 rows x 31 columns]"
      ]
     },
     "execution_count": 22,
     "metadata": {
      "tags": []
     },
     "output_type": "execute_result"
    }
   ],
   "source": [
    "train = pd.read_csv('training.csv')\n",
    "train.head()"
   ]
  },
  {
   "cell_type": "code",
   "execution_count": 32,
   "metadata": {
    "colab": {
     "base_uri": "https://localhost:8080/",
     "height": 70
    },
    "colab_type": "code",
    "id": "04U3jP3JzJiO",
    "outputId": "c991022b-7d4b-4267-bee7-5e2536e10934"
   },
   "outputs": [
    {
     "data": {
      "text/plain": [
       "True     28\n",
       "False     3\n",
       "dtype: int64"
      ]
     },
     "execution_count": 32,
     "metadata": {
      "tags": []
     },
     "output_type": "execute_result"
    }
   ],
   "source": [
    "train.isnull().any().value_counts()\n",
    "#most of the columns of some null values, therefore we need to fill them"
   ]
  },
  {
   "cell_type": "code",
   "execution_count": 0,
   "metadata": {
    "colab": {},
    "colab_type": "code",
    "collapsed": true,
    "id": "gsLqcGSy2fpP"
   },
   "outputs": [],
   "source": [
    "train.fillna(method=\"ffill\",inplace = True)\n",
    "#ffill method fills the cell with the last valid value in the column"
   ]
  },
  {
   "cell_type": "code",
   "execution_count": 36,
   "metadata": {
    "colab": {
     "base_uri": "https://localhost:8080/",
     "height": 52
    },
    "colab_type": "code",
    "id": "hfGc3oOi2z-K",
    "outputId": "72d36ca9-1cbe-4dcb-d6a5-c7b4da034ef4"
   },
   "outputs": [
    {
     "data": {
      "text/plain": [
       "False    31\n",
       "dtype: int64"
      ]
     },
     "execution_count": 36,
     "metadata": {
      "tags": []
     },
     "output_type": "execute_result"
    }
   ],
   "source": [
    "train.isnull().any().value_counts()"
   ]
  },
  {
   "cell_type": "code",
   "execution_count": 0,
   "metadata": {
    "colab": {},
    "colab_type": "code",
    "collapsed": true,
    "id": "cSrmMI0j27BK"
   },
   "outputs": [],
   "source": [
    "train_img = []\n",
    "images = train['Image']\n",
    "for i in range(len(images)):\n",
    "  img = images[i].split()\n",
    "  img = ['0' if x == '' else x for x in img]\n",
    "  train_img.append(img)"
   ]
  },
  {
   "cell_type": "code",
   "execution_count": 0,
   "metadata": {
    "colab": {},
    "colab_type": "code",
    "collapsed": true,
    "id": "7T0C7-sK3fHi"
   },
   "outputs": [],
   "source": [
    "train_img = np.array(train_img,dtype='float')\n",
    "X = train_img.reshape(-1,96,96,1)"
   ]
  },
  {
   "cell_type": "code",
   "execution_count": 48,
   "metadata": {
    "colab": {
     "base_uri": "https://localhost:8080/",
     "height": 35
    },
    "colab_type": "code",
    "id": "2S7mvRkj4ku_",
    "outputId": "583df2e4-a856-4a6a-e1fb-3ca2fd8cc2ba"
   },
   "outputs": [
    {
     "data": {
      "text/plain": [
       "(7049, 96, 96, 1)"
      ]
     },
     "execution_count": 48,
     "metadata": {
      "tags": []
     },
     "output_type": "execute_result"
    }
   ],
   "source": [
    "X.shape"
   ]
  },
  {
   "cell_type": "code",
   "execution_count": 91,
   "metadata": {
    "colab": {
     "base_uri": "https://localhost:8080/",
     "height": 269
    },
    "colab_type": "code",
    "id": "599Y5CTX4qTE",
    "outputId": "491685c1-349c-49a4-df0c-43705c082c60"
   },
   "outputs": [
    {
     "data": {
      "image/png": "[encoded data removed]",
      "text/plain": [
       "<Figure size 432x288 with 1 Axes>"
      ]
     },
     "metadata": {
      "tags": []
     },
     "output_type": "display_data"
    }
   ],
   "source": [
    "plt.imshow(X[1].reshape(96,96))\n",
    "plt.show()"
   ]
  },
  {
   "cell_type": "code",
   "execution_count": 0,
   "metadata": {
    "colab": {},
    "colab_type": "code",
    "collapsed": true,
    "id": "iVUNxhU-5VeP"
   },
   "outputs": [],
   "source": [
    "#getting labels\n",
    "labels = train.iloc[:,:30]\n",
    "labels = labels.values"
   ]
  },
  {
   "cell_type": "code",
   "execution_count": 66,
   "metadata": {
    "colab": {
     "base_uri": "https://localhost:8080/",
     "height": 35
    },
    "colab_type": "code",
    "id": "WyYuOegN6LHm",
    "outputId": "db51a5d1-8b2f-408e-c7eb-d49f5250e020"
   },
   "outputs": [
    {
     "data": {
      "text/plain": [
       "(7049, 30)"
      ]
     },
     "execution_count": 66,
     "metadata": {
      "tags": []
     },
     "output_type": "execute_result"
    }
   ],
   "source": [
    "labels.shape"
   ]
  },
  {
   "cell_type": "code",
   "execution_count": 98,
   "metadata": {
    "colab": {
     "base_uri": "https://localhost:8080/",
     "height": 1000
    },
    "colab_type": "code",
    "id": "tLKrwxcx6Z5F",
    "outputId": "e76a7237-46e4-4c0e-b52c-c80af206dbe4"
   },
   "outputs": [
    {
     "name": "stdout",
     "output_type": "stream",
     "text": [
      "_________________________________________________________________\n",
      "Layer (type)                 Output Shape              Param #   \n",
      "=================================================================\n",
      "conv2d_46 (Conv2D)           (None, 96, 96, 32)        320       \n",
      "_________________________________________________________________\n",
      "conv2d_47 (Conv2D)           (None, 96, 96, 32)        9248      \n",
      "_________________________________________________________________\n",
      "leaky_re_lu_36 (LeakyReLU)   (None, 96, 96, 32)        0         \n",
      "_________________________________________________________________\n",
      "batch_normalization_27 (Batc (None, 96, 96, 32)        128       \n",
      "_________________________________________________________________\n",
      "conv2d_48 (Conv2D)           (None, 96, 96, 32)        9248      \n",
      "_________________________________________________________________\n",
      "leaky_re_lu_37 (LeakyReLU)   (None, 96, 96, 32)        0         \n",
      "_________________________________________________________________\n",
      "conv2d_49 (Conv2D)           (None, 96, 96, 32)        9248      \n",
      "_________________________________________________________________\n",
      "leaky_re_lu_38 (LeakyReLU)   (None, 96, 96, 32)        0         \n",
      "_________________________________________________________________\n",
      "batch_normalization_28 (Batc (None, 96, 96, 32)        128       \n",
      "_________________________________________________________________\n",
      "conv2d_50 (Conv2D)           (None, 96, 96, 64)        18496     \n",
      "_________________________________________________________________\n",
      "leaky_re_lu_39 (LeakyReLU)   (None, 96, 96, 64)        0         \n",
      "_________________________________________________________________\n",
      "conv2d_51 (Conv2D)           (None, 96, 96, 64)        36928     \n",
      "_________________________________________________________________\n",
      "leaky_re_lu_40 (LeakyReLU)   (None, 96, 96, 64)        0         \n",
      "_________________________________________________________________\n",
      "batch_normalization_29 (Batc (None, 96, 96, 64)        256       \n",
      "_________________________________________________________________\n",
      "max_pooling2d_18 (MaxPooling (None, 32, 32, 64)        0         \n",
      "_________________________________________________________________\n",
      "conv2d_52 (Conv2D)           (None, 32, 32, 128)       204928    \n",
      "_________________________________________________________________\n",
      "leaky_re_lu_41 (LeakyReLU)   (None, 32, 32, 128)       0         \n",
      "_________________________________________________________________\n",
      "conv2d_53 (Conv2D)           (None, 32, 32, 128)       409728    \n",
      "_________________________________________________________________\n",
      "leaky_re_lu_42 (LeakyReLU)   (None, 32, 32, 128)       0         \n",
      "_________________________________________________________________\n",
      "batch_normalization_30 (Batc (None, 32, 32, 128)       512       \n",
      "_________________________________________________________________\n",
      "max_pooling2d_19 (MaxPooling (None, 6, 6, 128)         0         \n",
      "_________________________________________________________________\n",
      "flatten_7 (Flatten)          (None, 4608)              0         \n",
      "_________________________________________________________________\n",
      "dense_13 (Dense)             (None, 512)               2359808   \n",
      "_________________________________________________________________\n",
      "dropout_7 (Dropout)          (None, 512)               0         \n",
      "_________________________________________________________________\n",
      "dense_14 (Dense)             (None, 30)                15390     \n",
      "=================================================================\n",
      "Total params: 3,074,366\n",
      "Trainable params: 3,073,854\n",
      "Non-trainable params: 512\n",
      "_________________________________________________________________\n"
     ]
    }
   ],
   "source": [
    "#creating my model\n",
    "model = Sequential()\n",
    "model.add(Conv2D(32,(3,3),padding='same',input_shape=(96,96,1)))\n",
    "model.add(Conv2D(32,(3,3),padding='same'))\n",
    "model.add(LeakyReLU(alpha=0.1))\n",
    "model.add(BatchNormalization())\n",
    "#model.add(MaxPool2D(pool_size=(2,2)))\n",
    "\n",
    "model.add(Conv2D(32,(3,3),padding='same'))\n",
    "model.add(LeakyReLU(alpha=0.1))\n",
    "model.add(Conv2D(32,(3,3),padding='same'))\n",
    "model.add(LeakyReLU(alpha=0.1))\n",
    "model.add(BatchNormalization())\n",
    "#model.add(MaxPool2D(pool_size=(3,3)))\n",
    "\n",
    "model.add(Conv2D(64,(3,3),padding='same'))\n",
    "model.add(LeakyReLU(alpha=0.1))\n",
    "model.add(Conv2D(64,(3,3),padding='same'))\n",
    "model.add(LeakyReLU(alpha=0.1))\n",
    "model.add(BatchNormalization())\n",
    "model.add(MaxPool2D(pool_size=(3,3)))\n",
    "\n",
    "model.add(Conv2D(128,(5,5),padding='same'))\n",
    "model.add(LeakyReLU(alpha=0.1))\n",
    "model.add(Conv2D(128,(5,5),padding='same'))\n",
    "model.add(LeakyReLU(alpha=0.1))\n",
    "model.add(BatchNormalization())\n",
    "model.add(MaxPool2D(pool_size=(5,5)))\n",
    "\n",
    "model.add(Flatten())\n",
    "model.add(Dense(512,activation='relu'))\n",
    "model.add(Dropout(0.4))\n",
    "model.add(Dense(30))\n",
    "\n",
    "model.summary()"
   ]
  },
  {
   "cell_type": "code",
   "execution_count": 0,
   "metadata": {
    "colab": {},
    "colab_type": "code",
    "collapsed": true,
    "id": "cVS8OkoL8oRE"
   },
   "outputs": [],
   "source": [
    "model.compile(optimizer='adam',loss='mean_squared_error',metrics=['mae'])"
   ]
  },
  {
   "cell_type": "code",
   "execution_count": 100,
   "metadata": {
    "colab": {
     "base_uri": "https://localhost:8080/",
     "height": 1000
    },
    "colab_type": "code",
    "id": "vGXKdPLm-E2E",
    "outputId": "01e6e0fd-3620-41cd-db7a-bb9604793a33"
   },
   "outputs": [
    {
     "name": "stdout",
     "output_type": "stream",
     "text": [
      "Train on 5639 samples, validate on 1410 samples\n",
      "Epoch 1/50\n",
      "5639/5639 [==============================] - 37s 7ms/step - loss: 360.3221 - mean_absolute_error: 13.6801 - val_loss: 2578.1457 - val_mean_absolute_error: 46.2276\n",
      "Epoch 2/50\n",
      "5639/5639 [==============================] - 31s 6ms/step - loss: 98.7589 - mean_absolute_error: 7.8276 - val_loss: 147.6841 - val_mean_absolute_error: 9.7617\n",
      "Epoch 3/50\n",
      "5639/5639 [==============================] - 31s 5ms/step - loss: 71.8955 - mean_absolute_error: 6.6754 - val_loss: 24.9108 - val_mean_absolute_error: 3.7634\n",
      "Epoch 4/50\n",
      "5639/5639 [==============================] - 31s 5ms/step - loss: 59.8215 - mean_absolute_error: 6.0601 - val_loss: 14.5497 - val_mean_absolute_error: 2.8129\n",
      "Epoch 5/50\n",
      "5639/5639 [==============================] - 31s 5ms/step - loss: 52.2940 - mean_absolute_error: 5.6564 - val_loss: 19.1321 - val_mean_absolute_error: 3.2975\n",
      "Epoch 6/50\n",
      "5639/5639 [==============================] - 31s 5ms/step - loss: 52.6924 - mean_absolute_error: 5.6597 - val_loss: 16.5145 - val_mean_absolute_error: 3.0069\n",
      "Epoch 7/50\n",
      "5639/5639 [==============================] - 31s 5ms/step - loss: 44.3362 - mean_absolute_error: 5.1623 - val_loss: 9.2504 - val_mean_absolute_error: 2.1378\n",
      "Epoch 8/50\n",
      "5639/5639 [==============================] - 31s 5ms/step - loss: 37.9891 - mean_absolute_error: 4.7704 - val_loss: 19.1043 - val_mean_absolute_error: 3.2125\n",
      "Epoch 9/50\n",
      "5639/5639 [==============================] - 31s 5ms/step - loss: 40.1552 - mean_absolute_error: 4.8945 - val_loss: 28.6928 - val_mean_absolute_error: 4.3139\n",
      "Epoch 10/50\n",
      "5639/5639 [==============================] - 31s 5ms/step - loss: 35.6799 - mean_absolute_error: 4.6023 - val_loss: 27.4229 - val_mean_absolute_error: 4.3367\n",
      "Epoch 11/50\n",
      "5639/5639 [==============================] - 31s 5ms/step - loss: 46.3133 - mean_absolute_error: 5.2629 - val_loss: 71.1065 - val_mean_absolute_error: 7.3899\n",
      "Epoch 12/50\n",
      "5639/5639 [==============================] - 31s 5ms/step - loss: 32.0723 - mean_absolute_error: 4.3420 - val_loss: 13.0221 - val_mean_absolute_error: 2.7760\n",
      "Epoch 13/50\n",
      "5639/5639 [==============================] - 31s 5ms/step - loss: 31.5454 - mean_absolute_error: 4.2965 - val_loss: 7.2340 - val_mean_absolute_error: 1.8514\n",
      "Epoch 14/50\n",
      "5639/5639 [==============================] - 31s 5ms/step - loss: 32.2148 - mean_absolute_error: 4.3353 - val_loss: 7.7175 - val_mean_absolute_error: 1.9346\n",
      "Epoch 15/50\n",
      "5639/5639 [==============================] - 31s 5ms/step - loss: 35.4469 - mean_absolute_error: 4.5324 - val_loss: 40.7029 - val_mean_absolute_error: 5.4630\n",
      "Epoch 16/50\n",
      "5639/5639 [==============================] - 31s 5ms/step - loss: 28.5048 - mean_absolute_error: 4.0582 - val_loss: 40.1071 - val_mean_absolute_error: 5.3967\n",
      "Epoch 17/50\n",
      "5639/5639 [==============================] - 31s 5ms/step - loss: 26.1769 - mean_absolute_error: 3.8855 - val_loss: 29.0872 - val_mean_absolute_error: 4.5377\n",
      "Epoch 18/50\n",
      "5639/5639 [==============================] - 31s 5ms/step - loss: 25.6414 - mean_absolute_error: 3.8280 - val_loss: 23.3307 - val_mean_absolute_error: 3.9026\n",
      "Epoch 19/50\n",
      "5639/5639 [==============================] - 31s 5ms/step - loss: 25.4639 - mean_absolute_error: 3.8208 - val_loss: 10.4981 - val_mean_absolute_error: 2.4507\n",
      "Epoch 20/50\n",
      "5639/5639 [==============================] - 31s 5ms/step - loss: 24.2790 - mean_absolute_error: 3.7248 - val_loss: 5.9834 - val_mean_absolute_error: 1.5847\n",
      "Epoch 21/50\n",
      "5639/5639 [==============================] - 31s 5ms/step - loss: 25.9562 - mean_absolute_error: 3.8541 - val_loss: 6.4965 - val_mean_absolute_error: 1.7460\n",
      "Epoch 22/50\n",
      "5639/5639 [==============================] - 31s 5ms/step - loss: 23.7025 - mean_absolute_error: 3.6631 - val_loss: 5.5550 - val_mean_absolute_error: 1.5604\n",
      "Epoch 23/50\n",
      "5639/5639 [==============================] - 31s 5ms/step - loss: 22.4587 - mean_absolute_error: 3.5633 - val_loss: 10.9195 - val_mean_absolute_error: 2.3662\n",
      "Epoch 24/50\n",
      "5639/5639 [==============================] - 31s 5ms/step - loss: 22.4175 - mean_absolute_error: 3.5561 - val_loss: 8.9276 - val_mean_absolute_error: 2.2698\n",
      "Epoch 25/50\n",
      "5639/5639 [==============================] - 31s 5ms/step - loss: 23.5209 - mean_absolute_error: 3.6457 - val_loss: 31.1560 - val_mean_absolute_error: 4.7728\n",
      "Epoch 26/50\n",
      "5639/5639 [==============================] - 31s 6ms/step - loss: 25.4116 - mean_absolute_error: 3.7856 - val_loss: 21.9105 - val_mean_absolute_error: 3.8501\n",
      "Epoch 27/50\n",
      "5639/5639 [==============================] - 31s 5ms/step - loss: 21.6423 - mean_absolute_error: 3.4796 - val_loss: 6.0032 - val_mean_absolute_error: 1.6846\n",
      "Epoch 28/50\n",
      "5639/5639 [==============================] - 31s 5ms/step - loss: 21.7717 - mean_absolute_error: 3.4955 - val_loss: 8.7851 - val_mean_absolute_error: 2.2477\n",
      "Epoch 29/50\n",
      "5639/5639 [==============================] - 31s 5ms/step - loss: 20.7388 - mean_absolute_error: 3.3930 - val_loss: 23.5583 - val_mean_absolute_error: 4.2377\n",
      "Epoch 30/50\n",
      "5639/5639 [==============================] - 31s 5ms/step - loss: 20.8850 - mean_absolute_error: 3.4191 - val_loss: 6.4449 - val_mean_absolute_error: 1.8527\n",
      "Epoch 31/50\n",
      "5639/5639 [==============================] - 31s 6ms/step - loss: 19.9751 - mean_absolute_error: 3.3290 - val_loss: 7.5861 - val_mean_absolute_error: 2.0563\n",
      "Epoch 32/50\n",
      "5639/5639 [==============================] - 31s 5ms/step - loss: 19.4211 - mean_absolute_error: 3.2713 - val_loss: 7.6150 - val_mean_absolute_error: 2.0790\n",
      "Epoch 33/50\n",
      "5639/5639 [==============================] - 31s 5ms/step - loss: 20.0919 - mean_absolute_error: 3.3362 - val_loss: 7.8712 - val_mean_absolute_error: 1.9159\n",
      "Epoch 34/50\n",
      "5639/5639 [==============================] - 31s 5ms/step - loss: 20.0853 - mean_absolute_error: 3.3445 - val_loss: 7.8030 - val_mean_absolute_error: 1.9647\n",
      "Epoch 35/50\n",
      "5639/5639 [==============================] - 31s 5ms/step - loss: 18.9697 - mean_absolute_error: 3.2384 - val_loss: 9.3455 - val_mean_absolute_error: 2.2156\n",
      "Epoch 36/50\n",
      "5639/5639 [==============================] - 31s 5ms/step - loss: 19.2348 - mean_absolute_error: 3.2633 - val_loss: 10.4166 - val_mean_absolute_error: 2.4752\n",
      "Epoch 37/50\n",
      "5639/5639 [==============================] - 31s 5ms/step - loss: 19.1545 - mean_absolute_error: 3.2436 - val_loss: 6.3018 - val_mean_absolute_error: 1.7628\n",
      "Epoch 38/50\n",
      "5639/5639 [==============================] - 31s 5ms/step - loss: 18.6704 - mean_absolute_error: 3.2132 - val_loss: 9.3861 - val_mean_absolute_error: 2.3834\n",
      "Epoch 39/50\n",
      "5639/5639 [==============================] - 31s 5ms/step - loss: 20.2181 - mean_absolute_error: 3.3337 - val_loss: 8.2649 - val_mean_absolute_error: 2.1707\n",
      "Epoch 40/50\n",
      "5639/5639 [==============================] - 31s 5ms/step - loss: 19.1375 - mean_absolute_error: 3.2480 - val_loss: 54.1192 - val_mean_absolute_error: 6.6194\n",
      "Epoch 41/50\n",
      "5639/5639 [==============================] - 31s 6ms/step - loss: 21.3647 - mean_absolute_error: 3.4370 - val_loss: 48.2861 - val_mean_absolute_error: 6.2559\n",
      "Epoch 42/50\n",
      "5639/5639 [==============================] - 31s 5ms/step - loss: 20.3833 - mean_absolute_error: 3.3447 - val_loss: 50.1090 - val_mean_absolute_error: 6.3514\n",
      "Epoch 43/50\n",
      "5639/5639 [==============================] - 31s 5ms/step - loss: 19.1431 - mean_absolute_error: 3.2468 - val_loss: 8.5041 - val_mean_absolute_error: 2.2459\n",
      "Epoch 44/50\n",
      "5639/5639 [==============================] - 31s 5ms/step - loss: 18.3173 - mean_absolute_error: 3.1707 - val_loss: 7.4531 - val_mean_absolute_error: 1.8796\n",
      "Epoch 45/50\n",
      "5639/5639 [==============================] - 31s 5ms/step - loss: 19.2828 - mean_absolute_error: 3.2589 - val_loss: 14.7409 - val_mean_absolute_error: 3.1415\n",
      "Epoch 46/50\n",
      "5639/5639 [==============================] - 31s 5ms/step - loss: 22.2151 - mean_absolute_error: 3.5114 - val_loss: 6.0328 - val_mean_absolute_error: 1.7748\n",
      "Epoch 47/50\n",
      "5639/5639 [==============================] - 31s 5ms/step - loss: 18.1796 - mean_absolute_error: 3.1584 - val_loss: 22.5690 - val_mean_absolute_error: 4.0689\n",
      "Epoch 48/50\n",
      "5639/5639 [==============================] - 31s 5ms/step - loss: 17.3193 - mean_absolute_error: 3.0788 - val_loss: 38.2204 - val_mean_absolute_error: 5.4829\n",
      "Epoch 49/50\n",
      "5639/5639 [==============================] - 31s 5ms/step - loss: 20.7219 - mean_absolute_error: 3.4001 - val_loss: 29.6495 - val_mean_absolute_error: 4.8215\n",
      "Epoch 50/50\n",
      "5639/5639 [==============================] - 31s 5ms/step - loss: 18.7613 - mean_absolute_error: 3.2005 - val_loss: 27.4208 - val_mean_absolute_error: 4.5349\n"
     ]
    },
    {
     "data": {
      "text/plain": [
       "<keras.callbacks.History at 0x7f3735e4d7b8>"
      ]
     },
     "execution_count": 100,
     "metadata": {
      "tags": []
     },
     "output_type": "execute_result"
    }
   ],
   "source": [
    "checkpoint = ModelCheckpoint('final_model.h5',monitor='val_loss',save_best_only = True)\n",
    "model.fit(X,labels,epochs = 50,batch_size = 256,validation_split = 0.2,callbacks=[checkpoint])"
   ]
  },
  {
   "cell_type": "code",
   "execution_count": 0,
   "metadata": {
    "colab": {},
    "colab_type": "code",
    "collapsed": true,
    "id": "4v-42-M382Dy"
   },
   "outputs": [],
   "source": [
    "model.save_weights(\"model.h5\")"
   ]
  },
  {
   "cell_type": "code",
   "execution_count": 108,
   "metadata": {
    "colab": {
     "base_uri": "https://localhost:8080/",
     "height": 35
    },
    "colab_type": "code",
    "id": "8ODIjAn2Hmi8",
    "outputId": "a54e57dd-aa48-49f5-ec84-3eb840dfa505"
   },
   "outputs": [
    {
     "data": {
      "text/plain": [
       "'1.16.4'"
      ]
     },
     "execution_count": 108,
     "metadata": {
      "tags": []
     },
     "output_type": "execute_result"
    }
   ],
   "source": [
    "np.__version__"
   ]
  },
  {
   "cell_type": "code",
   "execution_count": 0,
   "metadata": {
    "colab": {},
    "colab_type": "code",
    "collapsed": true,
    "id": "XZl5zOki8EEq"
   },
   "outputs": [],
   "source": [
    "import tensorflow"
   ]
  }
 ],
 "metadata": {
  "accelerator": "GPU",
  "colab": {
   "name": "Train.ipynb",
   "provenance": [],
   "version": "0.3.2"
  },
  "kernelspec": {
   "display_name": "Python 3",
   "language": "python",
   "name": "python3"
  },
  "language_info": {
   "codemirror_mode": {
    "name": "ipython",
    "version": 3
   },
   "file_extension": ".py",
   "mimetype": "text/x-python",
   "name": "python",
   "nbconvert_exporter": "python",
   "pygments_lexer": "ipython3",
   "version": "3.5.4"
  }
 },
 "nbformat": 4,
 "nbformat_minor": 1
}
